{
  "nbformat": 4,
  "nbformat_minor": 0,
  "metadata": {
    "colab": {
      "provenance": []
    },
    "kernelspec": {
      "name": "python3",
      "display_name": "Python 3"
    },
    "language_info": {
      "name": "python"
    }
  },
  "cells": [
    {
      "cell_type": "markdown",
      "source": [
        "In this challenge, the user enters a string and a substring.  \n",
        "You have to print the number of times that the substring occurs in the given string. String traversal will take place from left to right, not from right to left.\n",
        "\n",
        "**NOTE:** String letters are case-sensitive.\n",
        "\n",
        "**Input Format**\n",
        "\n",
        "The first line of input contains the original string. The next line contains the substring.\n",
        "\n",
        "**Constraints**\n",
        "\n",
        "\n",
        "Each character in the string is an ascii character.\n",
        "\n",
        "**Output Format**\n",
        "\n",
        "Output the integer number indicating the total number of occurrences of the substring in the original string.\n",
        "\n",
        "**Sample Input**\n",
        "\n",
        "ABCDCDC  \n",
        "CDC  \n",
        "\n",
        "**Sample Output**\n",
        "\n",
        "2"
      ],
      "metadata": {
        "id": "yqch0QRVvRsR"
      }
    },
    {
      "cell_type": "code",
      "execution_count": null,
      "metadata": {
        "id": "EzESYSXEvMYz"
      },
      "outputs": [],
      "source": [
        "def count_substring(string, sub_string):\n",
        "    c = 0\n",
        "    for i in range(len(string)):\n",
        "        if string[i] == sub_string[0] and (i+len(sub_string)-1<len(string)):\n",
        "            match = True\n",
        "            j = i\n",
        "            for x in range(len(sub_string)):\n",
        "                if string[j] != sub_string[x]:\n",
        "                    match = False\n",
        "                j+=1\n",
        "            if match:\n",
        "                c+=1\n",
        "\n",
        "    return c\n",
        "\n",
        "if __name__ == '__main__':\n",
        "    string = input().strip()\n",
        "    sub_string = input().strip()\n",
        "\n",
        "    count = count_substring(string, sub_string)\n",
        "    print(count)"
      ]
    }
  ]
}