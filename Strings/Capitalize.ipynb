{
  "nbformat": 4,
  "nbformat_minor": 0,
  "metadata": {
    "colab": {
      "provenance": []
    },
    "kernelspec": {
      "name": "python3",
      "display_name": "Python 3"
    },
    "language_info": {
      "name": "python"
    }
  },
  "cells": [
    {
      "cell_type": "markdown",
      "source": [
        "**Capitalize!**"
      ],
      "metadata": {
        "id": "vZZLVUJpDAR8"
      }
    },
    {
      "cell_type": "markdown",
      "source": [
        "You are asked to ensure that the first and last names of people begin with a capital letter in their passports.  \n",
        "For example, alison heck should be capitalised correctly as Alison Heck.\n",
        "\n",
        "\n",
        "Given a full name, your task is to capitalize the name appropriately."
      ],
      "metadata": {
        "id": "WHMso2n6C77R"
      }
    },
    {
      "cell_type": "code",
      "source": [
        "def solve(s):\n",
        "    res =\"\"\n",
        "    l = s.split(\" \")\n",
        "    for i in l:\n",
        "        if i != \"\":\n",
        "            res+=i[0].upper()+ i[1:]+\" \"\n",
        "        else:\n",
        "            res+=\" \"\n",
        "    return res"
      ],
      "metadata": {
        "id": "0fwmepCrC1sO"
      },
      "execution_count": 7,
      "outputs": []
    },
    {
      "cell_type": "code",
      "execution_count": 8,
      "metadata": {
        "colab": {
          "base_uri": "https://localhost:8080/"
        },
        "id": "4KikSvALBdPl",
        "outputId": "25811a45-68a4-47fe-9979-62b990ecbbcc"
      },
      "outputs": [
        {
          "output_type": "stream",
          "name": "stdout",
          "text": [
            "Hello   World  Lol \n"
          ]
        }
      ],
      "source": [
        "s = \"hello   world  lol\"\n",
        "print(solve(s))"
      ]
    }
  ]
}