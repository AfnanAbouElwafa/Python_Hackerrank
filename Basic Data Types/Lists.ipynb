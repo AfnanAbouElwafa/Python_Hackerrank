{
  "nbformat": 4,
  "nbformat_minor": 0,
  "metadata": {
    "colab": {
      "provenance": []
    },
    "kernelspec": {
      "name": "python3",
      "display_name": "Python 3"
    },
    "language_info": {
      "name": "python"
    }
  },
  "cells": [
    {
      "cell_type": "markdown",
      "source": [
        "Consider a list (list = []). You can perform the following commands:\n",
        "\n",
        "insert i e: Insert integer e at position i.   \n",
        "print: Print the list.  \n",
        "remove e: Delete the first occurrence of integer e.  \n",
        "append e: Insert integer e at the end of the list.  \n",
        "sort: Sort the list.  \n",
        "pop: Pop the last element from the list.  \n",
        "reverse: Reverse the list.  \n",
        "\n",
        "Initialize your list and read in the value of N followed by n lines of commands where each command will be of the 7 types listed above.\n",
        "\n",
        "Iterate through each command in order and perform the corresponding operation on your list."
      ],
      "metadata": {
        "id": "SutIdao6rJMT"
      }
    },
    {
      "cell_type": "code",
      "source": [
        "    N = int(input())\n",
        "    lines = []\n",
        "    l = []\n",
        "    for i in range(N):\n",
        "        lines.append(input())\n",
        "\n",
        "    for i in lines:\n",
        "        com = i.split(\" \")\n",
        "        match com[0]:\n",
        "            case \"insert\":\n",
        "                l.insert(int(com[1]), int(com[2]))\n",
        "\n",
        "            case \"print\":\n",
        "                print(l)\n",
        "\n",
        "            case \"remove\":\n",
        "                l.remove(int(com[1]))\n",
        "\n",
        "            case \"append\":\n",
        "                l.append(int(com[1]))\n",
        "\n",
        "            case \"sort\":\n",
        "                l.sort()\n",
        "\n",
        "            case \"pop\":\n",
        "                l.pop()\n",
        "\n",
        "            case \"reverse\":\n",
        "                l.reverse()\n",
        "            case _:\n",
        "                print(\"\")"
      ],
      "metadata": {
        "colab": {
          "base_uri": "https://localhost:8080/"
        },
        "id": "7ftMrC6sqMzq",
        "outputId": "c5688bd5-694c-49e3-b1fc-8160399d894a"
      },
      "execution_count": 6,
      "outputs": [
        {
          "name": "stdout",
          "output_type": "stream",
          "text": [
            "1\n",
            "insert 0 5\n"
          ]
        }
      ]
    }
  ]
}