{
  "nbformat": 4,
  "nbformat_minor": 0,
  "metadata": {
    "colab": {
      "provenance": []
    },
    "kernelspec": {
      "name": "python3",
      "display_name": "Python 3"
    },
    "language_info": {
      "name": "python"
    }
  },
  "cells": [
    {
      "cell_type": "markdown",
      "source": [
        "**Task**  \n",
        "\n",
        "Students of District College have a subscription to English and French newspapers. Some students have subscribed to only the English newspaper, some have subscribed to only the French newspaper, and some have subscribed to both newspapers.\n",
        "\n",
        "You are given two sets of student roll numbers. One set has subscribed to the English newspaper, and one set has subscribed to the French newspaper. Your task is to find the total number of students who have subscribed to only English newspapers."
      ],
      "metadata": {
        "id": "XeMCRtSE8SFk"
      }
    },
    {
      "cell_type": "markdown",
      "source": [
        "**Input Format**\n",
        "\n",
        "The first line contains n, the number of students who have subscribed to the English newspaper.  \n",
        "The second line contains n space separated roll numbers of those students.  \n",
        "The third line contains b, the number of students who have subscribed to the French newspaper.   \n",
        "The fourth line contains b space separated roll numbers of those students.   \n",
        "\n",
        "**Output Format**   \n",
        "Output the total number of students who are subscribed to the English newspaper only."
      ],
      "metadata": {
        "id": "075bdvwm8ee6"
      }
    },
    {
      "cell_type": "code",
      "source": [
        "eng = []\n",
        "frn = []\n",
        "\n",
        "n = int(input())\n",
        "stud = input()\n",
        "eng = stud.split(\" \")\n",
        "\n",
        "b = int(input())\n",
        "fstud = input()\n",
        "frn = fstud.split(\" \")\n",
        "\n",
        "onlye = set(eng).difference(set(frn))\n",
        "print(len(onlye))\n",
        "\n"
      ],
      "metadata": {
        "colab": {
          "base_uri": "https://localhost:8080/"
        },
        "id": "czoG5h7e8Q85",
        "outputId": "2a2fd9b0-32a4-4798-dc3e-08d871db2c67"
      },
      "execution_count": 8,
      "outputs": [
        {
          "output_type": "stream",
          "name": "stdout",
          "text": [
            "9\n",
            "1 2 3 4 5 6 7 8 9\n",
            "9\n",
            "10 1 2 3 11 21 55 6 8\n",
            "4\n"
          ]
        }
      ]
    }
  ]
}