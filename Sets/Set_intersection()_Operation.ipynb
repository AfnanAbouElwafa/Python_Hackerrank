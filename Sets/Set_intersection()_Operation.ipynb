{
  "nbformat": 4,
  "nbformat_minor": 0,
  "metadata": {
    "colab": {
      "provenance": []
    },
    "kernelspec": {
      "name": "python3",
      "display_name": "Python 3"
    },
    "language_info": {
      "name": "python"
    }
  },
  "cells": [
    {
      "cell_type": "markdown",
      "source": [
        "Task\n",
        "The students of District College have subscriptions to English and French newspapers. Some students have subscribed only to English, some have subscribed only to French, and some have subscribed to both newspapers.\n",
        "\n",
        "You are given two sets of student roll numbers. One set has subscribed to the English newspaper, one set has subscribed to the French newspaper. Your task is to find the total number of students who have subscribed to both newspapers."
      ],
      "metadata": {
        "id": "XeMCRtSE8SFk"
      }
    },
    {
      "cell_type": "markdown",
      "source": [
        "**Input Format**\n",
        "\n",
        "The first line contains n, the number of students who have subscribed to the English newspaper.  \n",
        "The second line contains n space separated roll numbers of those students.  \n",
        "The third line contains b, the number of students who have subscribed to the French newspaper.   \n",
        "The fourth line contains b space separated roll numbers of those students.   \n",
        "\n",
        "**Output Format**   \n",
        "Output the total number of students who have subscriptions to both English and French newspapers."
      ],
      "metadata": {
        "id": "075bdvwm8ee6"
      }
    },
    {
      "cell_type": "code",
      "source": [
        "eng = []\n",
        "frn = []\n",
        "\n",
        "n = int(input())\n",
        "stud = input()\n",
        "eng = stud.split(\" \")\n",
        "\n",
        "b = int(input())\n",
        "fstud = input()\n",
        "frn = fstud.split(\" \")\n",
        "\n",
        "both = set(eng).intersection(set(frn))\n",
        "print(len(both))\n",
        "\n"
      ],
      "metadata": {
        "colab": {
          "base_uri": "https://localhost:8080/"
        },
        "id": "czoG5h7e8Q85",
        "outputId": "90cd0847-2b37-4b4a-af37-8b02e5effcbd"
      },
      "execution_count": 7,
      "outputs": [
        {
          "output_type": "stream",
          "name": "stdout",
          "text": [
            "9\n",
            "1 2 3 4 5 6 7 8 9\n",
            "9\n",
            "10 1 2 3 11 21 55 6 8\n",
            "5\n"
          ]
        }
      ]
    }
  ]
}